{
 "cells": [
  {
   "cell_type": "markdown",
   "metadata": {},
   "source": [
    "# HW3 Starter Code\n",
    "\n",
    "\n",
    "Remember, the authoritative instructions are on the course website:\n",
    "\n",
    "http://www.cs.tufts.edu/comp/135/2019s/hw3.html\n",
    "\n",
    "\n",
    "Please report any questions to Piazza."
   ]
  },
  {
   "cell_type": "markdown",
   "metadata": {},
   "source": [
    "# Import required libraries"
   ]
  },
  {
   "cell_type": "code",
   "execution_count": 192,
   "metadata": {},
   "outputs": [],
   "source": [
    "import os\n",
    "import numpy as np\n",
    "import pandas as pd\n",
    "\n",
    "import sklearn.linear_model\n",
    "import sklearn.tree\n",
    "import sklearn.metrics\n",
    "\n",
    "from matplotlib import pyplot as plt\n",
    "import seaborn as sns"
   ]
  },
  {
   "cell_type": "markdown",
   "metadata": {},
   "source": [
    "# Starter code students need to edit"
   ]
  },
  {
   "cell_type": "code",
   "execution_count": 193,
   "metadata": {},
   "outputs": [],
   "source": [
    "def calc_TP_TN_FP_FN(ytrue_N, yhat_N):\n",
    "    ''' Compute counts of four possible outcomes of a binary classifier for evaluation.\n",
    "    \n",
    "    Args\n",
    "    ----\n",
    "    ytrue_N : 1D array of floats\n",
    "        Each entry represents the binary value (0 or 1) of 'true' label of one example\n",
    "        One entry per example in current dataset\n",
    "    yhat_N : 1D array of floats\n",
    "        Each entry represents a predicted binary value (either 0 or 1).\n",
    "        One entry per example in current dataset.\n",
    "        Needs to be same size as ytrue_N.\n",
    "\n",
    "    Returns\n",
    "    -------\n",
    "    TP : float\n",
    "        Number of true positives\n",
    "    TN : float\n",
    "        Number of true negatives\n",
    "    FP : float\n",
    "        Number of false positives\n",
    "    FN : float\n",
    "        Number of false negatives\n",
    "    '''\n",
    "    TP = 0.0\n",
    "    TN = 0.0\n",
    "    FP = 0.0\n",
    "    FN = 0.0\n",
    "    for i in range(len(yhat_N)): \n",
    "        if yhat_N[i] == 0 and ytrue_N[i] == 0:\n",
    "            TN += 1\n",
    "        elif yhat_N[i] == 0 and ytrue_N[i] == 1:\n",
    "            FN += 1\n",
    "        elif yhat_N[i] == 1 and ytrue_N[i] == 0:\n",
    "            FP += 1\n",
    "        elif yhat_N[i] == 1 and ytrue_N[i] == 1:\n",
    "            TP += 1\n",
    "    return TP, TN, FP, FN"
   ]
  },
  {
   "cell_type": "markdown",
   "metadata": {},
   "source": [
    "# Starter code that should be used as is.\n",
    "\n",
    "No need to edit these functions!"
   ]
  },
  {
   "cell_type": "code",
   "execution_count": 194,
   "metadata": {},
   "outputs": [],
   "source": [
    "def calc_perf_metrics_for_threshold(ytrue_N, yproba1_N, thresh):\n",
    "    ''' Compute performance metrics for a given probabilistic classifier and threshold\n",
    "    '''\n",
    "    tp, tn, fp, fn = calc_TP_TN_FP_FN(ytrue_N, yproba1_N >= thresh)\n",
    "    ## Compute ACC, TPR, TNR, etc.\n",
    "    acc = (tp + tn) / float(tp + tn + fp + fn + 1e-10)\n",
    "    tpr = tp / float(tp + fn + 1e-10)\n",
    "    tnr = tn / float(fp + tn + 1e-10)\n",
    "    ppv = tp / float(tp + fp + 1e-10)\n",
    "    npv = tn / float(tn + fn + 1e-10)\n",
    "    \n",
    "    return acc, tpr, tnr, ppv, npv\n",
    "\n",
    "def print_perf_metrics_for_threshold(ytrue_N, yproba1_N, thresh):\n",
    "    ''' Pretty print perf. metrics for a given probabilistic classifier and threshold\n",
    "    '''\n",
    "    acc, tpr, tnr, ppv, npv = calc_perf_metrics_for_threshold(ytrue_N, yproba1_N, thresh)\n",
    "    \n",
    "    ## Pretty print the results\n",
    "    print(\"%.3f ACC\" % acc)\n",
    "    print(\"%.3f TPR\" % tpr)\n",
    "    print(\"%.3f TNR\" % tnr)\n",
    "    print(\"%.3f PPV\" % ppv) # Positive predictive val\n",
    "    print(\"%.3f NPV\" % npv) # Negative predictive value"
   ]
  },
  {
   "cell_type": "code",
   "execution_count": 195,
   "metadata": {},
   "outputs": [],
   "source": [
    "def calc_confusion_matrix_for_threshold(ytrue_N, yproba1_N, thresh):\n",
    "    ''' Compute the confusion matrix for a given probabilistic classifier and threshold\n",
    "    \n",
    "    Args\n",
    "    ----\n",
    "    ytrue_N : 1D array of floats\n",
    "        Each entry represents the binary value (0 or 1) of 'true' label of one example\n",
    "        One entry per example in current dataset\n",
    "    yproba1_N : 1D array of floats\n",
    "        Each entry represents a probability (between 0 and 1) that correct label is positive (1)\n",
    "        One entry per example in current dataset\n",
    "        Needs to be same size as ytrue_N\n",
    "    thresh : float\n",
    "        Scalar threshold for converting probabilities into hard decisions\n",
    "        Calls an example \"positive\" if yproba1 >= thresh\n",
    "\n",
    "    Returns\n",
    "    -------\n",
    "    cm_df : Pandas DataFrame\n",
    "        Can be printed like print(cm_df) to easily display results\n",
    "    '''\n",
    "    cm = sklearn.metrics.confusion_matrix(ytrue_N, yproba1_N >= thresh)\n",
    "    cm_df = pd.DataFrame(data=cm, columns=[0, 1], index=[0, 1])\n",
    "    cm_df.columns.name = 'Predicted'\n",
    "    cm_df.index.name = 'True'\n",
    "    return cm_df"
   ]
  },
  {
   "cell_type": "code",
   "execution_count": 196,
   "metadata": {},
   "outputs": [],
   "source": [
    "def compute_perf_metrics_across_thresholds(ytrue_N, yproba1_N, thresh_grid=None):\n",
    "    ''' Compute common binary classifier performance metrics across many thresholds\n",
    "    \n",
    "    If no array of thresholds is provided, will use all 'unique' values\n",
    "    in the yproba1_N array to define all possible thresholds with different performance.\n",
    "    \n",
    "    Args\n",
    "    ----\n",
    "    ytrue_N : 1D array of floats\n",
    "        Each entry represents the binary value (0 or 1) of 'true' label of one example\n",
    "        One entry per example in current dataset\n",
    "    yproba1_N : 1D array of floats\n",
    "        Each entry represents a probability (between 0 and 1) that correct label is positive (1)\n",
    "        One entry per example in current dataset\n",
    "\n",
    "    Returns\n",
    "    -------\n",
    "    thresh_grid : 1D array of floats\n",
    "        One entry for each possible threshold\n",
    "    perf_dict : dict, with key, value pairs:\n",
    "        * 'acc' : 1D array of accuracy values (one per threshold)\n",
    "        * 'ppv' : 1D array of positive predictive values (one per threshold)\n",
    "        * 'npv' : 1D array of negative predictive values (one per threshold)\n",
    "        * 'tpr' : 1D array of true positive rates (one per threshold)\n",
    "        * 'tnr' : 1D array of true negative rates (one per threshold)\n",
    "    '''\n",
    "    if thresh_grid is None:\n",
    "        bin_edges = np.linspace(0, 1.001, 21)\n",
    "        thresh_grid = np.sort(np.hstack([bin_edges, np.unique(yproba1_N)]))\n",
    "    tpr_grid = np.zeros_like(thresh_grid)\n",
    "    tnr_grid = np.zeros_like(thresh_grid)\n",
    "    ppv_grid = np.zeros_like(thresh_grid)\n",
    "    npv_grid = np.zeros_like(thresh_grid)\n",
    "    acc_grid = np.zeros_like(thresh_grid)\n",
    "    for tt, thresh in enumerate(thresh_grid):\n",
    "        # Apply specific threshold to convert probas into hard binary values (0 or 1)\n",
    "        # Then count number of true positives, true negatives, etc.\n",
    "        # Then compute metrics like accuracy and true positive rate\n",
    "        acc, tpr, tnr, ppv, npv = calc_perf_metrics_for_threshold(ytrue_N, yproba1_N, thresh)\n",
    "        acc_grid[tt] = acc\n",
    "        tpr_grid[tt] = tpr\n",
    "        tnr_grid[tt] = tnr\n",
    "        ppv_grid[tt] = ppv\n",
    "        npv_grid[tt] = npv\n",
    "    return thresh_grid, dict(\n",
    "        acc=acc_grid,\n",
    "        tpr=tpr_grid,\n",
    "        tnr=tnr_grid,\n",
    "        ppv=ppv_grid,\n",
    "        npv=npv_grid)\n",
    "\n",
    "def make_plot_perf_vs_threshold(ytrue_N, yproba1_N, bin_edges=np.linspace(0, 1, 21)):\n",
    "    ''' Make pretty plot of binary classifier performance as threshold increases\n",
    "    \n",
    "    Produces a plot with 3 rows:\n",
    "    * top row: hist of predicted probabilities for negative examples (shaded red)\n",
    "    * middle row: hist of predicted probabilities for positive examples (shaded blue)\n",
    "    * bottom row: line plots of metrics that require hard decisions (ACC, TPR, TNR, etc.)\n",
    "    '''\n",
    "    fig, axes = plt.subplots(nrows=3, ncols=1, figsize=(12, 8))\n",
    "    sns.distplot(\n",
    "        yproba1_N[ytrue_N == 0],\n",
    "        color='r', bins=bin_edges, kde=False, rug=True, ax=axes[0]);\n",
    "    sns.distplot(\n",
    "        yproba1_N[ytrue_N == 1],\n",
    "        color='b', bins=bin_edges, kde=False, rug=True, ax=axes[1]);\n",
    "\n",
    "    thresh_grid, perf_grid = compute_perf_metrics_across_thresholds(ytrue_N, yproba1_N)\n",
    "    axes[2].plot(thresh_grid, perf_grid['acc'], 'k-', label='accuracy')\n",
    "    axes[2].plot(thresh_grid, perf_grid['tpr'], 'b-', label='TPR (recall/sensitivity)')\n",
    "    axes[2].plot(thresh_grid, perf_grid['tnr'], 'g-', label='TNR (specificity)')\n",
    "    axes[2].plot(thresh_grid, perf_grid['ppv'], 'c-', label='PPV (precision)')\n",
    "    axes[2].plot(thresh_grid, perf_grid['npv'], 'm-', label='NPV')\n",
    "    \n",
    "    axes[2].legend()\n",
    "    axes[2].set_ylim([0, 1])"
   ]
  },
  {
   "cell_type": "markdown",
   "metadata": {},
   "source": [
    "# Problem 1: Binary Classifier for Cancer-Risk Screening"
   ]
  },
  {
   "cell_type": "markdown",
   "metadata": {},
   "source": [
    "### Load the dataset"
   ]
  },
  {
   "cell_type": "code",
   "execution_count": 197,
   "metadata": {},
   "outputs": [],
   "source": [
    "# Load 3 feature version of x arrays\n",
    "x_tr_M3 = np.loadtxt('data_cancer/x_train.csv', delimiter=',', skiprows=1)\n",
    "x_va_N3 = np.loadtxt('data_cancer/x_valid.csv', delimiter=',', skiprows=1)\n",
    "x_te_N3 = np.loadtxt('data_cancer/x_test.csv', delimiter=',', skiprows=1)\n",
    "\n",
    "# 2 feature version of x arrays\n",
    "x_tr_M2 = x_tr_M3[:, :2].copy()\n",
    "x_va_N2 = x_va_N3[:, :2].copy()\n",
    "x_te_N2 = x_te_N3[:, :2].copy()"
   ]
  },
  {
   "cell_type": "code",
   "execution_count": 198,
   "metadata": {},
   "outputs": [],
   "source": [
    "y_tr_M = np.loadtxt('data_cancer/y_train.csv', delimiter=',', skiprows=1)\n",
    "y_va_N = np.loadtxt('data_cancer/y_valid.csv', delimiter=',', skiprows=1)\n",
    "y_te_N = np.loadtxt('data_cancer/y_test.csv', delimiter=',', skiprows=1)"
   ]
  },
  {
   "cell_type": "markdown",
   "metadata": {},
   "source": [
    "## Problem 1a: Data Exploration"
   ]
  },
  {
   "cell_type": "markdown",
   "metadata": {},
   "source": [
    "### **1a(i):** What fraction of the provided patients have cancer in the training set, the validation set, and the test set? "
   ]
  },
  {
   "cell_type": "code",
   "execution_count": 199,
   "metadata": {},
   "outputs": [
    {
     "name": "stdout",
     "output_type": "stream",
     "text": [
      "frac has_cancer on TRAIN: 0.141\n",
      "frac has_cancer on VALID: 0.139\n",
      "frac has_cancer on TEST : 0.139\n"
     ]
    }
   ],
   "source": [
    "train_frac = np.count_nonzero(y_tr_M)/len(y_tr_M)\n",
    "valid_frac = np.count_nonzero(y_va_N)/len(y_va_N)\n",
    "test_frac = np.count_nonzero(y_te_N)/len(y_te_N)\n",
    "print(\"frac has_cancer on TRAIN: %.3f\" % train_frac) # TODO edit the printed values\n",
    "print(\"frac has_cancer on VALID: %.3f\" % valid_frac) \n",
    "print(\"frac has_cancer on TEST : %.3f\" % test_frac)"
   ]
  },
  {
   "cell_type": "markdown",
   "metadata": {},
   "source": [
    "### **1a(ii):** Looking at the features data contained in the training set 𝑥 array, what feature preprocessing (if any) would you recommend to improve a decision tree's performance?"
   ]
  },
  {
   "cell_type": "markdown",
   "metadata": {},
   "source": [
    "**Answer**: Decision tree data usually does not require significant preprocessing. However, to optimize performance we can combine certain features or classes of data, assuming that they are related and that we know this relationship. For example, if there exists features A,B,C where features B,C are subsets or derived features of A, we can combine all three features into one (say A'). This reduces the computation needed and can result in better performance "
   ]
  },
  {
   "cell_type": "markdown",
   "metadata": {},
   "source": [
    "### 1a(iii): Looking at the features data contained in the training set 𝑥 array, what feature preprocessing (if any) would you recommend to improve logistic regression's performance?"
   ]
  },
  {
   "cell_type": "markdown",
   "metadata": {},
   "source": [
    "**Answer**: We can increase the performance by scaling the features in the training set data. "
   ]
  },
  {
   "cell_type": "markdown",
   "metadata": {},
   "source": [
    "## Problem 1b: The predict-0-always baseline"
   ]
  },
  {
   "cell_type": "markdown",
   "metadata": {},
   "source": [
    "### Problem 1b(i): Compute the accuracy of the predict-0-always classifier on validation and test set"
   ]
  },
  {
   "cell_type": "code",
   "execution_count": 200,
   "metadata": {},
   "outputs": [
    {
     "name": "stdout",
     "output_type": "stream",
     "text": [
      "acc on VALID: 0.861\n",
      "acc on TEST : 0.861\n"
     ]
    }
   ],
   "source": [
    "predict_0_va = np.full((1,len(y_va_N)), 0)\n",
    "predict_0_te = np.full((1,len(y_te_N)), 0)\n",
    "TP_va, TN_va, FP_va, FN_va = calc_TP_TN_FP_FN(predict_0_va.flatten(), y_va_N)\n",
    "TP_te, TN_te, FP_te, FN_te = calc_TP_TN_FP_FN(predict_0_te.flatten(), y_te_N)\n",
    "acc_va = (TP_va + TN_va)/len(y_va_N)\n",
    "acc_te = (TP_te + TN_te)/len(y_te_N)\n",
    "print(\"acc on VALID: %.3f\" % acc_va) # TODO edit values!\n",
    "print(\"acc on TEST : %.3f\" % acc_te)"
   ]
  },
  {
   "cell_type": "markdown",
   "metadata": {},
   "source": [
    "### Problem 1b(ii): Print a confusion matrix for predict-0-always on the validation set."
   ]
  },
  {
   "cell_type": "code",
   "execution_count": 201,
   "metadata": {},
   "outputs": [
    {
     "name": "stdout",
     "output_type": "stream",
     "text": [
      "Predicted    0  1\n",
      "True             \n",
      "0          155  0\n",
      "1           25  0\n"
     ]
    }
   ],
   "source": [
    "# TODO call print(calc_confusion_matrix_for_threshold(...))\n",
    "print(calc_confusion_matrix_for_threshold(y_va_N, predict_0_va.flatten(), 0.5))\n"
   ]
  },
  {
   "cell_type": "markdown",
   "metadata": {},
   "source": [
    "### Problem 1b(iii): This classifier gets pretty good accuracy! Why wouldn't we want to use it?"
   ]
  },
  {
   "cell_type": "markdown",
   "metadata": {},
   "source": [
    "**Answer**: This accuracy is biased towards this sample, i.e: If we have another sample where it is all 1s, we would have an accuracy of 0%, and as a result, is sample-dependent. There is no predictive power that varies between different samples which will not allow us to make meaningful predictions"
   ]
  },
  {
   "cell_type": "markdown",
   "metadata": {},
   "source": [
    "### Problem 1b(iv): For the intended application (screening patients before biopsy), describe the possible mistakes the classifier can make in task-specific terms. What costs does each mistake entail (lost time? lost money? life-threatening harm?). How do you recommend evaluating the classifier to be mindful of these costs?\n"
   ]
  },
  {
   "cell_type": "markdown",
   "metadata": {},
   "source": [
    "**Answer**: For an always-0 predictor, the possible mistake is a False Negative where the classifier predicts that a patient does not have cancer while they actually do. This has potentially life-threatening consequences. In order to have a better set of evaluations, we also need to look at other metricts such as Positive/Negative Predictive value. A PPV test would also show that this model has a lower "
   ]
  },
  {
   "cell_type": "markdown",
   "metadata": {},
   "source": [
    "## 1c : Logistic Regression"
   ]
  },
  {
   "cell_type": "markdown",
   "metadata": {},
   "source": [
    "### Model Fitting for 1c(i)"
   ]
  },
  {
   "cell_type": "code",
   "execution_count": 202,
   "metadata": {},
   "outputs": [
    {
     "name": "stdout",
     "output_type": "stream",
     "text": [
      "31.622776601683793\n"
     ]
    }
   ],
   "source": [
    "C_grid = np.logspace(-9, 6, 31)\n",
    "\n",
    "tr_loss_list = list()\n",
    "va_loss_list = list()\n",
    "for C in C_grid:\n",
    "    lr = sklearn.linear_model.LogisticRegression(C=C)\n",
    "    lr.fit(x_tr_M2, y_tr_M)\n",
    "    y_tr_predict = lr.predict_proba(x_tr_M2)[:,1]\n",
    "    tr_loss_list.append(sklearn.metrics.log_loss(y_tr_M, y_tr_predict))\n",
    "    y_va_predict = lr.predict_proba(x_va_N2)[:,1]\n",
    "    va_loss_list.append(sklearn.metrics.log_loss(y_va_N, y_va_predict))\n",
    "    # TODO fit, predict_proba, and evaluate logistic loss\n",
    "# print(tr_loss_list)\n",
    "\n",
    "    \n",
    "# Record the best model here\n",
    "print(C_grid[np.argmin(va_loss_list)])"
   ]
  },
  {
   "cell_type": "markdown",
   "metadata": {},
   "source": [
    "### **1c(i):** Apply your logistic regression code to the \"2 feature\" $x$ data, and make a plot of logistic loss (y-axis) vs. C (x-axis) on the training set and validation set. Which value of $C$ do you prefer? "
   ]
  },
  {
   "cell_type": "code",
   "execution_count": 203,
   "metadata": {},
   "outputs": [
    {
     "name": "stdout",
     "output_type": "stream",
     "text": [
      "best C for LR with 2 feature data: 31.623\n"
     ]
    },
    {
     "data": {
      "image/png": "[encoded data removed]",
      "text/plain": [
       "<Figure size 432x288 with 1 Axes>"
      ]
     },
     "metadata": {},
     "output_type": "display_data"
    }
   ],
   "source": [
    "# TODO make plot\n",
    "plt.plot(C_grid, tr_loss_list, 'b:', label = 'training')\n",
    "plt.plot(C_grid, va_loss_list, 'rs-', label = 'validation')\n",
    "plt.xlabel('log10(C)')\n",
    "plt.xscale('log')\n",
    "plt.ylabel('logistic loss')\n",
    "plt.ylim([0.0, 0.7]);\n",
    "plt.legend()\n",
    "plt.title('Log loss vs C')\n",
    "\n",
    "# TODO add legend\n",
    "# fig_h, lin_reg = plt.subplots(nrows=1, ncols=1, sharex=True)\n",
    "# lin_reg.plot(degree_list,err_tr_list, 'b:', label = \"training\")\n",
    "# lin_reg.plot(degree_list,err_va_list, 'rs-', label = \"validation\")\n",
    "# lin_reg.set_ylim([0,70])\n",
    "# lin_reg.set_xlabel('Degree D')\n",
    "# lin_reg.set_ylabel('MSE')\n",
    "\n",
    "# print(err_tr_list)\n",
    "# print(err_va_list)\n",
    "#plt.legend(...);\n",
    "\n",
    "print(\"best C for LR with 2 feature data: %.3f\" % C_grid[np.argmin(va_loss_list)]) # TODO\n"
   ]
  },
  {
   "cell_type": "markdown",
   "metadata": {},
   "source": [
    "### **1c(ii):** Make a performance plot that shows how good your probabilistic predictions from the best 1c(i) classifier are on the validation set. "
   ]
  },
  {
   "cell_type": "code",
   "execution_count": 205,
   "metadata": {},
   "outputs": [
    {
     "name": "stderr",
     "output_type": "stream",
     "text": [
      "/anaconda3/lib/python3.6/site-packages/matplotlib/axes/_axes.py:6462: UserWarning: The 'normed' kwarg is deprecated, and has been replaced by the 'density' kwarg.\n",
      "  warnings.warn(\"The 'normed' kwarg is deprecated, and has been \"\n",
      "/anaconda3/lib/python3.6/site-packages/matplotlib/axes/_axes.py:6462: UserWarning: The 'normed' kwarg is deprecated, and has been replaced by the 'density' kwarg.\n",
      "  warnings.warn(\"The 'normed' kwarg is deprecated, and has been \"\n"
     ]
    },
    {
     "data": {
      "image/png": "[encoded data removed]",
      "text/plain": [
       "<Figure size 864x576 with 3 Axes>"
      ]
     },
     "metadata": {},
     "output_type": "display_data"
    }
   ],
   "source": [
    "# TODO call make_plot_perf_vs_threshold(...)\n",
    "lr = sklearn.linear_model.LogisticRegression(C=C_grid[np.argmin(va_loss_list)])\n",
    "lr.fit(x_tr_M2, y_tr_M)\n",
    "y_va_pred = lr.predict_proba(x_va_N2)[:,1]\n",
    "make_plot_perf_vs_threshold(y_va_N, y_va_pred)"
   ]
  },
  {
   "cell_type": "markdown",
   "metadata": {},
   "source": [
    "### Model fitting for 1c(iii)"
   ]
  },
  {
   "cell_type": "code",
   "execution_count": 206,
   "metadata": {},
   "outputs": [
    {
     "name": "stdout",
     "output_type": "stream",
     "text": [
      "1000000.0\n"
     ]
    }
   ],
   "source": [
    "# TODO like 1c(i) but with 3 features\n",
    "C_grid = np.logspace(-9, 6, 31)\n",
    "\n",
    "tr_loss_list = list()\n",
    "va_loss_list = list()\n",
    "for C in C_grid:\n",
    "    lr = sklearn.linear_model.LogisticRegression(C=C)\n",
    "    lr.fit(x_tr_M3, y_tr_M)\n",
    "    y_tr_predict = lr.predict_proba(x_tr_M3)[:,1]\n",
    "    tr_loss_list.append(sklearn.metrics.log_loss(y_tr_M, y_tr_predict))\n",
    "    y_va_predict = lr.predict_proba(x_va_N3)[:,1]\n",
    "    va_loss_list.append(sklearn.metrics.log_loss(y_va_N, y_va_predict))\n",
    "    # TODO fit, predict_proba, and evaluate logistic loss\n",
    "# print(tr_loss_list)\n",
    "print(C_grid[np.argmin(va_loss_list)])\n",
    "# print(C_grid)\n",
    "    \n",
    "# Record the best model here"
   ]
  },
  {
   "cell_type": "markdown",
   "metadata": {},
   "source": [
    "### **1c(iii):** Plot of logistic loss (y-axis) vs. C (x-axis) on the training set and validation set. Which value of $C$ do you prefer? "
   ]
  },
  {
   "cell_type": "code",
   "execution_count": 208,
   "metadata": {},
   "outputs": [
    {
     "name": "stdout",
     "output_type": "stream",
     "text": [
      "best C for LR with 3 feature data: 1000000.000\n"
     ]
    },
    {
     "data": {
      "image/png": "[encoded data removed]",
      "text/plain": [
       "<Figure size 432x288 with 1 Axes>"
      ]
     },
     "metadata": {},
     "output_type": "display_data"
    }
   ],
   "source": [
    "# TODO make plot\n",
    "plt.plot(C_grid, tr_loss_list, 'b:', label = 'training')\n",
    "plt.plot(C_grid, va_loss_list, 'rs-', label = 'validation')\n",
    "plt.xlabel('log10(C)');\n",
    "plt.xscale('log')\n",
    "plt.ylabel('logistic loss');\n",
    "plt.ylim([0.0, 0.7]);\n",
    "plt.legend()\n",
    "plt.title('Log loss vs C')\n",
    "\n",
    "# TODO add legend\n",
    "#plt.legend(...);\n",
    "\n",
    "print(\"best C for LR with 3 feature data: %.3f\" % C_grid[np.argmin(va_loss_list)]) # TODO\n"
   ]
  },
  {
   "cell_type": "markdown",
   "metadata": {},
   "source": [
    "### Problem 1c(iv):  Make a performance plot that shows how good your probabilistic predictions from the best 1c(iii) classifier are on the validation set.  "
   ]
  },
  {
   "cell_type": "code",
   "execution_count": 209,
   "metadata": {},
   "outputs": [
    {
     "name": "stderr",
     "output_type": "stream",
     "text": [
      "/anaconda3/lib/python3.6/site-packages/matplotlib/axes/_axes.py:6462: UserWarning: The 'normed' kwarg is deprecated, and has been replaced by the 'density' kwarg.\n",
      "  warnings.warn(\"The 'normed' kwarg is deprecated, and has been \"\n",
      "/anaconda3/lib/python3.6/site-packages/matplotlib/axes/_axes.py:6462: UserWarning: The 'normed' kwarg is deprecated, and has been replaced by the 'density' kwarg.\n",
      "  warnings.warn(\"The 'normed' kwarg is deprecated, and has been \"\n"
     ]
    },
    {
     "data": {
      "image/png": "[encoded data removed]",
      "text/plain": [
       "<Figure size 864x576 with 3 Axes>"
      ]
     },
     "metadata": {},
     "output_type": "display_data"
    }
   ],
   "source": [
    "# TODO call make_plot_perf_vs_threshold(...)\n",
    "lr = sklearn.linear_model.LogisticRegression(C=C_grid[np.argmin(va_loss_list)])\n",
    "lr.fit(x_tr_M3, y_tr_M)\n",
    "y_va_pred = lr.predict_proba(x_va_N3)[:,1]\n",
    "make_plot_perf_vs_threshold(y_va_N, y_va_pred)"
   ]
  },
  {
   "cell_type": "markdown",
   "metadata": {},
   "source": [
    "## Problem 1d: Decision Tree"
   ]
  },
  {
   "cell_type": "markdown",
   "metadata": {},
   "source": [
    "### Model fitting code for decision tree 1d(i)"
   ]
  },
  {
   "cell_type": "code",
   "execution_count": 210,
   "metadata": {
    "scrolled": true
   },
   "outputs": [
    {
     "name": "stdout",
     "output_type": "stream",
     "text": [
      "100\n"
     ]
    }
   ],
   "source": [
    "min_samples_leaf_grid = np.asarray([1, 2, 5, 10, 20, 50, 100, 200, y_tr_M.size])\n",
    "\n",
    "tr_loss_list = list()\n",
    "va_loss_list = list()\n",
    "for min_samples_leaf in min_samples_leaf_grid:\n",
    "    tree = sklearn.tree.DecisionTreeClassifier(\n",
    "        criterion='entropy', min_samples_leaf=min_samples_leaf)\n",
    "    tree.fit(x_tr_M3, y_tr_M)\n",
    "    tree_tr_predict = tree.predict_proba(x_tr_M3)[:,1]\n",
    "    tr_loss_list.append(sklearn.metrics.log_loss(y_tr_M, tree_tr_predict))\n",
    "    tree_va_predict = tree.predict_proba(x_va_N3)[:,1]\n",
    "    va_loss_list.append(sklearn.metrics.log_loss(y_va_N, tree_va_predict))\n",
    "\n",
    "    # TODO fit, predict_proba, and compute logistic loss\n",
    "\n",
    "# TODO compute best value for min_samples_leaf\n",
    "# Use 100\n",
    "# print(tr_loss_list)\n",
    "# print(va_loss_list)\n",
    "print(min_samples_leaf_grid[np.argmin(va_loss_list)])"
   ]
  },
  {
   "cell_type": "markdown",
   "metadata": {},
   "source": [
    "### **1d(i):** Plot of logistic loss (y-axis) vs. min_samples_leaf (x-axis) on the training set and validation set. Which value of min_samples_leaf do you prefer? "
   ]
  },
  {
   "cell_type": "code",
   "execution_count": 212,
   "metadata": {},
   "outputs": [
    {
     "name": "stdout",
     "output_type": "stream",
     "text": [
      "best min_samples_leaf with 3 feature data: 100.000\n"
     ]
    },
    {
     "data": {
      "image/png": "[encoded data removed]",
      "text/plain": [
       "<Figure size 432x288 with 1 Axes>"
      ]
     },
     "metadata": {},
     "output_type": "display_data"
    }
   ],
   "source": [
    "# TODO plot\n",
    "plt.plot(min_samples_leaf_grid, tr_loss_list, 'b:', label = 'training')\n",
    "plt.plot(min_samples_leaf_grid, va_loss_list, 'rs-', label = 'validation')\n",
    "plt.xlabel('log10(C)');\n",
    "plt.xlabel('min_samples_leaf');\n",
    "plt.ylabel('logistic loss');\n",
    "plt.ylim([0.0, 1.0]);\n",
    "plt.legend()\n",
    "plt.title('Log loss vs C')\n",
    "\n",
    "\n",
    "print(\"best min_samples_leaf with 3 feature data: %.3f\" % min_samples_leaf_grid[np.argmin(va_loss_list)]) # TODO"
   ]
  },
  {
   "cell_type": "markdown",
   "metadata": {},
   "source": [
    "###  **1d(ii):** Make a performance plot that shows how good your probabilistic predictions from the best 1c(iii) classifier are on the validation set. "
   ]
  },
  {
   "cell_type": "code",
   "execution_count": 213,
   "metadata": {},
   "outputs": [
    {
     "name": "stderr",
     "output_type": "stream",
     "text": [
      "/anaconda3/lib/python3.6/site-packages/matplotlib/axes/_axes.py:6462: UserWarning: The 'normed' kwarg is deprecated, and has been replaced by the 'density' kwarg.\n",
      "  warnings.warn(\"The 'normed' kwarg is deprecated, and has been \"\n",
      "/anaconda3/lib/python3.6/site-packages/matplotlib/axes/_axes.py:6462: UserWarning: The 'normed' kwarg is deprecated, and has been replaced by the 'density' kwarg.\n",
      "  warnings.warn(\"The 'normed' kwarg is deprecated, and has been \"\n"
     ]
    },
    {
     "data": {
      "image/png": "[encoded data removed]",
      "text/plain": [
       "<Figure size 864x576 with 3 Axes>"
      ]
     },
     "metadata": {},
     "output_type": "display_data"
    }
   ],
   "source": [
    "# TODO call make_plot_perf_vs_threshold\n",
    "tree = sklearn.tree.DecisionTreeClassifier(\n",
    "        criterion='entropy', min_samples_leaf=100)\n",
    "tree.fit(x_tr_M3, y_tr_M)\n",
    "tree_va_predict = tree.predict_proba(x_va_N3)[:,1]\n",
    "make_plot_perf_vs_threshold(y_va_N, tree_va_predict)"
   ]
  },
  {
   "cell_type": "markdown",
   "metadata": {},
   "source": [
    "# Problem 1e: ROC Curve analysis"
   ]
  },
  {
   "cell_type": "markdown",
   "metadata": {},
   "source": [
    "### Problem 1e(i): ROC on Validation set"
   ]
  },
  {
   "cell_type": "code",
   "execution_count": 214,
   "metadata": {},
   "outputs": [
    {
     "data": {
      "image/png": "[encoded data removed]",
      "text/plain": [
       "<Figure size 432x288 with 1 Axes>"
      ]
     },
     "metadata": {},
     "output_type": "display_data"
    }
   ],
   "source": [
    "# TODO something like: fpr, tpr, thr = sklearn.metrics.roc_curve(...)\n",
    "lr_2M = sklearn.linear_model.LogisticRegression(C=31.622776601683793)\n",
    "lr_2M.fit(x_tr_M2, y_tr_M)\n",
    "y_va_2M_predict = lr_2M.predict_proba(x_va_N2)[:,1]\n",
    "\n",
    "lr_3M = sklearn.linear_model.LogisticRegression(C=1000000.0)\n",
    "lr_3M.fit(x_tr_M3, y_tr_M)\n",
    "y_va_3M_predict = lr_3M.predict_proba(x_va_N3)[:,1]\n",
    "\n",
    "tree = sklearn.tree.DecisionTreeClassifier(criterion='entropy', min_samples_leaf=100)\n",
    "tree.fit(x_tr_M3, y_tr_M)\n",
    "tree_va_predict = tree.predict_proba(x_va_N3)[:,1]\n",
    "\n",
    "fpr_2M, tpr_2M, thres_2M = sklearn.metrics.roc_curve(y_va_N, y_va_2M_predict)\n",
    "fpr_3M, tpr_3M, thres_3M = sklearn.metrics.roc_curve(y_va_N, y_va_3M_predict)\n",
    "fpr_tr, tpr_tr, thres_tr = sklearn.metrics.roc_curve(y_va_N, tree_va_predict) \n",
    "\n",
    "plt.plot(fpr_2M, tpr_2M, label = '2M')\n",
    "plt.plot(fpr_3M, tpr_3M, label = '3M')\n",
    "plt.plot(fpr_tr, tpr_tr, label = 'Tr')\n",
    "plt.legend()\n",
    "plt.title('TPR vs FPR')\n",
    "plt.ylim([0, 1]);\n",
    "plt.xlabel(\"FPR\");\n",
    "plt.ylabel(\"TPR\");"
   ]
  },
  {
   "cell_type": "markdown",
   "metadata": {},
   "source": [
    "### Problem 1e(ii): ROC on Test set"
   ]
  },
  {
   "cell_type": "code",
   "execution_count": 215,
   "metadata": {},
   "outputs": [
    {
     "data": {
      "image/png": "[encoded data removed]",
      "text/plain": [
       "<Figure size 432x288 with 1 Axes>"
      ]
     },
     "metadata": {},
     "output_type": "display_data"
    }
   ],
   "source": [
    "# TODO something like: fpr, tpr, thr = sklearn.metrics.roc_curve(...)\n",
    "lr_2M = sklearn.linear_model.LogisticRegression(C=31.622776601683793)\n",
    "lr_2M.fit(x_tr_M2, y_tr_M)\n",
    "y_te_2M_predict = lr_2M.predict_proba(x_te_N2)[:,1]\n",
    "\n",
    "lr_3M = sklearn.linear_model.LogisticRegression(C=1000000.0)\n",
    "lr_3M.fit(x_tr_M3, y_tr_M)\n",
    "y_te_3M_predict = lr_3M.predict_proba(x_te_N3)[:,1]\n",
    "\n",
    "tree = sklearn.tree.DecisionTreeClassifier(criterion='entropy', min_samples_leaf=100)\n",
    "tree.fit(x_tr_M3, y_tr_M)\n",
    "tree_te_predict = tree.predict_proba(x_te_N3)[:,1]\n",
    "\n",
    "fpr_2M, tpr_2M, thres_2M = sklearn.metrics.roc_curve(y_te_N, y_te_2M_predict)\n",
    "fpr_3M, tpr_3M, thres_3M = sklearn.metrics.roc_curve(y_te_N, y_te_3M_predict)\n",
    "fpr_tr, tpr_tr, thres_tr = sklearn.metrics.roc_curve(y_te_N, tree_te_predict) \n",
    "\n",
    "plt.plot(fpr_2M, tpr_2M, label = '2M')\n",
    "plt.plot(fpr_3M, tpr_3M, label = '3M')\n",
    "plt.plot(fpr_tr, tpr_tr, label = 'Tr')\n",
    "\n",
    "plt.legend()\n",
    "plt.title('TPR vs FPR')\n",
    "plt.ylim([0, 1]);\n",
    "plt.xlabel(\"FPR\");\n",
    "plt.ylabel(\"TPR\");"
   ]
  },
  {
   "cell_type": "markdown",
   "metadata": {},
   "source": [
    "### **1e(iii):** Short Answer: Compare the 3-feature LR to 2-feature LR models: does one dominate the other in terms of ROC performance?\n"
   ]
  },
  {
   "cell_type": "markdown",
   "metadata": {},
   "source": [
    "**Answer**: The 3-Feature LR dominates the 2-feature LR at all values of of FPR and TPR. "
   ]
  },
  {
   "cell_type": "markdown",
   "metadata": {},
   "source": [
    "### **1e(iv):** Short Answer: Compare the 3-feature DTree to 2-feature LR models: does one dominate the other in terms of ROC performance?\n"
   ]
  },
  {
   "cell_type": "markdown",
   "metadata": {},
   "source": [
    "**Answer**: IN the validation set, the 3-Feature DTree has better performance over the 2-Feature LR model from FPR ranges between 0.35 and 0.80 and 2-Feature LR performs better between FPR values 0.00 to 0.35 and 0.80 to 1.00. For the test set, the 3-Feature DTree only consistently outperforms 2-Feature LR between FPR values of 0.30 to 0.55, at other ranges, 2-Feature LR performs better most of the time. "
   ]
  },
  {
   "cell_type": "markdown",
   "metadata": {},
   "source": [
    "## Problem 1f: Selecting a decision threshold"
   ]
  },
  {
   "cell_type": "markdown",
   "metadata": {},
   "source": [
    "### Problem 1f(i): Use default 0.5 threshold. Report perf. for 3-feature Logistic Regr."
   ]
  },
  {
   "cell_type": "code",
   "execution_count": 216,
   "metadata": {},
   "outputs": [
    {
     "name": "stdout",
     "output_type": "stream",
     "text": [
      "ON THE VALIDATION SET:\n",
      "Chosen best thr = 0.5000\n",
      "\n",
      "ON THE TEST SET:\n",
      "Predicted    0   1\n",
      "True              \n",
      "0          152   3\n",
      "1           15  10\n",
      "\n",
      "0.900 ACC\n",
      "0.400 TPR\n",
      "0.981 TNR\n",
      "0.769 PPV\n",
      "0.910 NPV\n"
     ]
    }
   ],
   "source": [
    "best_thr = 0.5\n",
    "\n",
    "print(\"ON THE VALIDATION SET:\")\n",
    "print(\"Chosen best thr = %.4f\" % best_thr)\n",
    "print(\"\")\n",
    "print(\"ON THE TEST SET:\")\n",
    "# TODO: print(calc_confusion_matrix_for_threshold(...))\n",
    "print(calc_confusion_matrix_for_threshold(y_te_N, y_te_3M_predict, best_thr))\n",
    "print(\"\")\n",
    "# TODO: print(print_perf_metrics_for_threshold(...))\n",
    "print_perf_metrics_for_threshold(y_te_N, y_te_3M_predict, best_thr)"
   ]
  },
  {
   "cell_type": "markdown",
   "metadata": {},
   "source": [
    "### Problem 1f(ii): Pick threshold to maximize TPR s.t. PPV >= 0.98. Report perf. for 3-feature Logistic Regr."
   ]
  },
  {
   "cell_type": "code",
   "execution_count": 217,
   "metadata": {},
   "outputs": [
    {
     "name": "stdout",
     "output_type": "stream",
     "text": [
      "ON THE VALIDATION SET:\n",
      "Chosen best thr = 0.6100\n",
      "\n",
      "ON THE TEST SET:\n",
      "Predicted    0  1\n",
      "True             \n",
      "0          155  0\n",
      "1           19  6\n",
      "\n",
      "0.894 ACC\n",
      "0.240 TPR\n",
      "1.000 TNR\n",
      "1.000 PPV\n",
      "0.891 NPV\n"
     ]
    }
   ],
   "source": [
    "thresh = [0.6, 0.61, 0.62, 0.63, 0.64, 0.65, 0.66, 0.67, 0.68, 0.69,0.7,0.9,1.0]\n",
    "\n",
    "chosen_thres = 0.61\n",
    "\n",
    "print(\"ON THE VALIDATION SET:\")\n",
    "print(\"Chosen best thr = %.4f\" % chosen_thres) # TODO\n",
    "print(\"\")\n",
    "print(\"ON THE TEST SET:\")\n",
    "# TODO: print(calc_confusion_matrix_for_threshold(...))\n",
    "print(calc_confusion_matrix_for_threshold(y_te_N, y_te_3M_predict, chosen_thres))\n",
    "print(\"\")\n",
    "# TODO: print(print_perf_metrics_for_threshold(...))\n",
    "print_perf_metrics_for_threshold(y_te_N, y_te_3M_predict, chosen_thres)\n",
    "\n",
    "# for t in thresh: \n",
    "#     print(t)\n",
    "#     print_perf_metrics_for_threshold(y_va_N, y_va_3M_predict, t)\n",
    "    \n",
    "#Based on the thresholds calculated, thresh = 0.595 seems to provide the max value of TPR at 0.240 while PPV >= 0.98.\n",
    "    "
   ]
  },
  {
   "cell_type": "markdown",
   "metadata": {},
   "source": [
    "### Problem 1f(iii): Pick threshold to maximize PPV s.t. TPR >= 0.98. Report perf. for 3-feature Logistic Regr."
   ]
  },
  {
   "cell_type": "code",
   "execution_count": 218,
   "metadata": {},
   "outputs": [
    {
     "name": "stdout",
     "output_type": "stream",
     "text": [
      "ON THE VALIDATION SET:\n",
      "Chosen best thr = 0.0300\n",
      "\n",
      "ON THE TEST SET:\n",
      "Predicted   0   1\n",
      "True             \n",
      "0          57  98\n",
      "1           0  25\n",
      "\n",
      "0.456 ACC\n",
      "1.000 TPR\n",
      "0.368 TNR\n",
      "0.203 PPV\n",
      "1.000 NPV\n"
     ]
    }
   ],
   "source": [
    "# TODO thresh_grid, perf_grid = compute_perf_metrics_across_thresholds(...)\n",
    "\n",
    "# TODO Find threshold that makes TPR as large as possible, while satisfying PPV >= 0.98\n",
    "\n",
    "max_ppv = 0.03\n",
    "\n",
    "print(\"ON THE VALIDATION SET:\")\n",
    "print(\"Chosen best thr = %.4f\" % max_ppv) # TODO\n",
    "print(\"\")\n",
    "print(\"ON THE TEST SET:\")\n",
    "# TODO: print(calc_confusion_matrix_for_threshold(...))\n",
    "print(calc_confusion_matrix_for_threshold(y_te_N, y_te_3M_predict, max_ppv))\n",
    "print(\"\")\n",
    "# TODO: print(print_perf_metrics_for_threshold(...))\n",
    "print_perf_metrics_for_threshold(y_te_N, y_te_3M_predict, max_ppv)\n",
    "\n",
    "thresh = [0.0029,0.03, 0.0301,0.031]\n",
    "\n",
    "# for t in thresh: \n",
    "#     print(t)\n",
    "#     print_perf_metrics_for_threshold(y_va_N, y_va_3M_predict, t)"
   ]
  },
  {
   "cell_type": "markdown",
   "metadata": {},
   "source": [
    "### Problem 1f(iv): Compare the confusion matrices between 1f(i) - 1f(iii). Which thresholding strategy best meets our preferences from 1a: avoid life-threatening mistakes at all costs, while also eliminating unnecessary biopsies?"
   ]
  },
  {
   "cell_type": "markdown",
   "metadata": {},
   "source": [
    "**Answer**: The third thresholding strategy (fiii) that maximizes PPV. Based on our preferences, this avoids all life-threatening cases of False Negative predictions as compared to strategies in f(i), and f(ii). Although it requires more unecessary biopsies to be performed than f(i) and f(ii), the total number of biopsies that are performed has reduced from 155 to 98 (roughly a 33% reduction)."
   ]
  },
  {
   "cell_type": "markdown",
   "metadata": {},
   "source": [
    "### Problem 1f(v): How many subjects in the test set are saved from unnecessary biopsies using your selected thresholding strategy? What fraction of current biopsies would be avoided if this classifier was adopted by the hospital?"
   ]
  },
  {
   "cell_type": "markdown",
   "metadata": {},
   "source": [
    "**Answer**: The number of subjects saved from unnecessary biopsies is 57. The fraction avoided is 57/155"
   ]
  },
  {
   "cell_type": "markdown",
   "metadata": {},
   "source": [
    "# Problem 2: Concept Questions"
   ]
  },
  {
   "cell_type": "markdown",
   "metadata": {},
   "source": [
    "## Problem 2a: Optimization"
   ]
  },
  {
   "cell_type": "markdown",
   "metadata": {},
   "source": [
    "### 2a(i): Where is the ideal minimum of the function $f(x)$?\n"
   ]
  },
  {
   "cell_type": "markdown",
   "metadata": {},
   "source": [
    "Ideal minimum is at x = 0, where f(x) = 0"
   ]
  },
  {
   "cell_type": "markdown",
   "metadata": {},
   "source": [
    "### 2a(ii): Does this gradient descent procedure converge? Explain your answer.M"
   ]
  },
  {
   "cell_type": "markdown",
   "metadata": {},
   "source": [
    "This procedure does not converge as it will eventually bounce back and forth using the x-values -0.1 and 0.1. The ideal minimum of x cannot be reached using the this step size at the chosen starting point."
   ]
  },
  {
   "cell_type": "markdown",
   "metadata": {},
   "source": [
    "\n",
    "### 2a(iii): Can you propose a step length with which the optimization procedure converges?"
   ]
  },
  {
   "cell_type": "markdown",
   "metadata": {},
   "source": [
    "Based off of the value of f(x), we cannot simply provide a constant step length where the gradient eventually converges to 0 as we cannot find the gradient of f(x) at f(x) = 0. Other diminishing step methods such as Newton's algo would also not work in this instance. \n",
    "\n",
    "There are, however, alternate methods to approximate the gradient close to f(x) = 0 which can be achieved by using **subgradient methods** to suggest diminishing step lengths."
   ]
  },
  {
   "cell_type": "markdown",
   "metadata": {},
   "source": [
    "## Problem 2b: Understanding Logistic Regression"
   ]
  },
  {
   "cell_type": "markdown",
   "metadata": {},
   "source": [
    "### 2b(i): Explain why the illustration has problems (1-3 sentences)."
   ]
  },
  {
   "cell_type": "markdown",
   "metadata": {
    "collapsed": true
   },
   "source": [
    "Logistic regression finds a set of weights w and biases b that will be plugged in for x values to predict y hat. By nature, the regression boundary should then be a straight line. However, the graph shows a sigmoid curve, which should instead represent the logistic sigmoid function not the logistic regression graph\n"
   ]
  },
  {
   "cell_type": "code",
   "execution_count": null,
   "metadata": {},
   "outputs": [],
   "source": []
  }
 ],
 "metadata": {
  "kernelspec": {
   "display_name": "Python 3",
   "language": "python",
   "name": "python3"
  },
  "language_info": {
   "codemirror_mode": {
    "name": "ipython",
    "version": 3
   },
   "file_extension": ".py",
   "mimetype": "text/x-python",
   "name": "python",
   "nbconvert_exporter": "python",
   "pygments_lexer": "ipython3",
   "version": "3.6.5"
  }
 },
 "nbformat": 4,
 "nbformat_minor": 2
}
