{
 "cells": [
  {
   "cell_type": "markdown",
   "metadata": {},
   "source": [
    "# COMP 135 Fall 2019: HW1 STARTER"
   ]
  },
  {
   "cell_type": "raw",
   "metadata": {},
   "source": [
    "Student Name: Phan Anh Nguyen"
   ]
  },
  {
   "cell_type": "markdown",
   "metadata": {},
   "source": [
    "# Setup comp135_env package imports"
   ]
  },
  {
   "cell_type": "code",
   "execution_count": 98,
   "metadata": {},
   "outputs": [],
   "source": [
    "import os\n",
    "import numpy as np\n",
    "import sklearn.neighbors\n",
    "import sklearn.tree\n",
    "\n",
    "from matplotlib import pyplot as plt\n",
    "import seaborn as sns"
   ]
  },
  {
   "cell_type": "code",
   "execution_count": 99,
   "metadata": {},
   "outputs": [],
   "source": [
    "%matplotlib inline"
   ]
  },
  {
   "cell_type": "markdown",
   "metadata": {},
   "source": [
    "# Setup student-defined imports"
   ]
  },
  {
   "cell_type": "code",
   "execution_count": 100,
   "metadata": {},
   "outputs": [],
   "source": [
    "from LeastSquaresLinearRegression import LeastSquaresLinearRegressor"
   ]
  },
  {
   "cell_type": "code",
   "execution_count": 101,
   "metadata": {},
   "outputs": [],
   "source": [
    "from evaluate_perf_metrics import (\n",
    "    calc_perf_metric__absolute_error, calc_perf_metric__squared_error,\n",
    "    calc_perf_metrics_for_regressor_on_dataset)"
   ]
  },
  {
   "cell_type": "markdown",
   "metadata": {},
   "source": [
    "# Load dataset"
   ]
  },
  {
   "cell_type": "code",
   "execution_count": 102,
   "metadata": {},
   "outputs": [],
   "source": [
    "## TODO load all data (train/valid/test) into x_tr_NF, x_va_NF, x_te_NF, ..."
   ]
  },
  {
   "cell_type": "code",
   "execution_count": 103,
   "metadata": {},
   "outputs": [],
   "source": [
    "y_tr_NF = np.loadtxt('data_abalone/y_train.csv', delimiter=',', skiprows=1)\n",
    "y_va_NF = np.loadtxt('data_abalone/y_valid.csv', delimiter=',', skiprows=1)\n",
    "y_te_NF = np.loadtxt('data_abalone/y_test.csv', delimiter=',', skiprows=1)"
   ]
  },
  {
   "cell_type": "code",
   "execution_count": 104,
   "metadata": {},
   "outputs": [],
   "source": [
    "x_tr_NF = np.loadtxt('data_abalone/x_train.csv', delimiter=',', skiprows=1)\n",
    "x_va_NF = np.loadtxt('data_abalone/x_valid.csv', delimiter=',', skiprows=1)\n",
    "x_te_NF = np.loadtxt('data_abalone/x_test.csv', delimiter=',', skiprows=1)\n",
    "#np.loadtxt('data_abalone/x_train.csv', delimiter=',', skiprows=1, usecols = 2)\n",
    "diam_mm_tr = x_tr_NF[:,2].copy()\n",
    "diam_mm_va = x_va_NF[:,2].copy()\n",
    "diam_mm_te = x_te_NF[:,2].copy()\n",
    "#np.loadtxt('data_abalone/x_train.csv', delimiter=',', skiprows=1, usecols = 5)\n",
    "shucked_weight_g_tr = x_tr_NF[:,5].copy()\n",
    "shucked_weight_g_va = x_va_NF[:,5].copy()\n",
    "shucked_weight_g_te = x_te_NF[:,5].copy()\n",
    "feature2_tr = x_tr_NF[:,[2,5]].copy()\n",
    "feature2_va = x_va_NF[:,[2,5]].copy()\n",
    "feature2_te = x_te_NF[:,[2,5]].copy()"
   ]
  },
  {
   "cell_type": "markdown",
   "metadata": {},
   "source": [
    "# 1a : Abalone histograms of response variable 'rings'"
   ]
  },
  {
   "cell_type": "markdown",
   "metadata": {},
   "source": [
    "#### 1a(i): Produce one figure with three subplots, showing histograms of $y$ from train/valid/test"
   ]
  },
  {
   "cell_type": "code",
   "execution_count": 191,
   "metadata": {},
   "outputs": [
    {
     "data": {
      "image/png": "[encoded data removed]",
      "text/plain": [
       "<Figure size 432x288 with 3 Axes>"
      ]
     },
     "metadata": {
      "needs_background": "light"
     },
     "output_type": "display_data"
    }
   ],
   "source": [
    "fig_h, axes_arr = plt.subplots(nrows=3, ncols=1, sharex=True)\n",
    "sns.distplot(y_tr_NF, kde=False, rug=True, ax=axes_arr[0]);\n",
    "sns.distplot(y_va_NF, kde=False, rug=True, ax=axes_arr[1]);\n",
    "sns.distplot(y_te_NF, kde=False, rug=True, ax=axes_arr[2]);\n",
    "\n",
    "## TODO plot histograms on the axes\n",
    "## e.g. sns.distplot(y_tr_N, kde=False, rug=True, ax=axes_arr[0]);\n"
   ]
  },
  {
   "cell_type": "markdown",
   "metadata": {},
   "source": [
    "#### 1a(ii): Describe the **train** distribution. Unimodal or multimodal? What shape? Are there noticeable outliers?"
   ]
  },
  {
   "cell_type": "markdown",
   "metadata": {},
   "source": [
    "The train data is a bell-shaped unimodal distribution that is skewed right. There are some noticeable outliers to the far right of the graph. "
   ]
  },
  {
   "cell_type": "markdown",
   "metadata": {},
   "source": [
    "#### 1a(iii): Quantify train's descriptive statistics. "
   ]
  },
  {
   "cell_type": "code",
   "execution_count": 106,
   "metadata": {},
   "outputs": [
    {
     "name": "stdout",
     "output_type": "stream",
     "text": [
      "Minimum is:  1.0\n",
      "Maximum is:  29.0\n",
      "Median is:  9.0\n",
      "Mean is:  9.902392947103275\n"
     ]
    }
   ],
   "source": [
    "### TODO CODE HERE\n",
    "minimum = np.min(y_tr_NF)\n",
    "maximum = np.max(y_tr_NF)\n",
    "median = np.median(y_tr_NF)\n",
    "mean = np.mean(y_tr_NF)\n",
    "print(\"Minimum is: \", minimum)\n",
    "print(\"Maximum is: \", maximum)\n",
    "print(\"Median is: \", median)\n",
    "print(\"Mean is: \", mean)"
   ]
  },
  {
   "cell_type": "markdown",
   "metadata": {},
   "source": [
    "# 1b : Scatterplots of 'rings' vs 'diam' and 'rings' vs 'shucked'"
   ]
  },
  {
   "cell_type": "markdown",
   "metadata": {},
   "source": [
    "#### **1b(i):** Create figure with two subplots: scatter plot of `diam_mm` vs `rings` and scatter of `shucked_weight_g` vs `rings`."
   ]
  },
  {
   "cell_type": "code",
   "execution_count": 153,
   "metadata": {},
   "outputs": [
    {
     "data": {
      "image/png": "[encoded data removed]",
      "text/plain": [
       "<Figure size 432x288 with 2 Axes>"
      ]
     },
     "metadata": {
      "needs_background": "light"
     },
     "output_type": "display_data"
    }
   ],
   "source": [
    "## TODO CODE HERE\n",
    "fig_h, scatterp = plt.subplots(nrows=2, ncols=1, sharex=True)\n",
    "diam_rings = sns.regplot(y_tr_NF,diam_mm_tr,ax=scatterp[0])\n",
    "shucked_weight_rings = sns.regplot(y_tr_NF, shucked_weight_g_tr,ax=scatterp[1])"
   ]
  },
  {
   "cell_type": "markdown",
   "metadata": {},
   "source": [
    "#### **1b(ii):** Describe the trends you between diameter and rings in a few sentences."
   ]
  },
  {
   "cell_type": "markdown",
   "metadata": {},
   "source": [
    "There seems to be a strong positive linear correlation between diameter and the number of rings. As the diameter increases, the number of rings tend to increase incrementally as well and we could predict the rings given the diameter"
   ]
  },
  {
   "cell_type": "markdown",
   "metadata": {},
   "source": [
    "#### 1b(iii): Describe the trends you see between shucked weight and rings.\n"
   ]
  },
  {
   "cell_type": "markdown",
   "metadata": {},
   "source": [
    "There seems to be a positive linear correlation between diameter and the number of rings however, it is not strong. There are many cases where a large shucked weight does not correspond to a shucked weight. It seems that the data is more normally distributed with regards to weight with the mean being around 10-15 rings. It does not seem as if we can predict the number of rings based on the shucked weights alone."
   ]
  },
  {
   "cell_type": "markdown",
   "metadata": {},
   "source": [
    "# Setup code for 1c"
   ]
  },
  {
   "cell_type": "code",
   "execution_count": 154,
   "metadata": {},
   "outputs": [],
   "source": [
    "## Dummy class to perform \"always guess training mean\" prediction\n",
    "class MeanPredictor():\n",
    "    def __init__(self):\n",
    "        self.yhat = None\n",
    "    \n",
    "    def fit(self, x_tr_NF, y_tr_N):\n",
    "        self.yhat = np.mean(y_tr_N)\n",
    "    \n",
    "    def predict(self, x_NF):\n",
    "        return self.yhat"
   ]
  },
  {
   "cell_type": "code",
   "execution_count": 155,
   "metadata": {},
   "outputs": [],
   "source": [
    "## Dummy class to perform \"always guess training median\" prediction\n",
    "class MedianPredictor():\n",
    "    def __init__(self):\n",
    "        self.yhat = None\n",
    "    \n",
    "    def fit(self, x_tr_NF, y_tr_N):\n",
    "        self.yhat = np.median(y_tr_N)\n",
    "    \n",
    "    def predict(self, x_NF):\n",
    "        return self.yhat"
   ]
  },
  {
   "cell_type": "code",
   "execution_count": 156,
   "metadata": {},
   "outputs": [
    {
     "name": "stdout",
     "output_type": "stream",
     "text": [
      "[10.2744779] [10.94938356] [10.5646027]\n"
     ]
    }
   ],
   "source": [
    "mean_value_predictor = MeanPredictor()\n",
    "mean_value_predictor.fit(x_tr_NF,y_tr_NF)\n",
    "## TODO fit the predictor, like mean_value_predictor.fit(x_tr_N2, y_tr_N)\n",
    "predict_mean_tr = mean_value_predictor.predict(x_tr_NF)\n",
    "predict_mean_va = mean_value_predictor.predict(x_va_NF)\n",
    "predict_mean_te = mean_value_predictor.predict(x_te_NF)\n",
    "\n",
    "## TODO evaluate predictions on train, valid, and test\n",
    "yhat_tr = np.full((y_tr_NF.shape[0],1),predict_mean_tr)\n",
    "yhat_va = np.full((y_va_NF.shape[0],1),predict_mean_va)\n",
    "yhat_te = np.full((y_te_NF.shape[0],1),predict_mean_te)\n",
    "\n",
    "mse_mean_tr = calc_perf_metric__squared_error(y_tr_NF, yhat_tr)\n",
    "mse_mean_va = calc_perf_metric__squared_error(y_va_NF, yhat_va)\n",
    "mse_mean_te = calc_perf_metric__squared_error(y_te_NF, yhat_te)\n",
    "\n",
    "print(mse_mean_tr, mse_mean_va, mse_mean_te)"
   ]
  },
  {
   "cell_type": "code",
   "execution_count": 157,
   "metadata": {},
   "outputs": [
    {
     "name": "stdout",
     "output_type": "stream",
     "text": [
      "[11.08879093] [11.994] [11.602]\n"
     ]
    }
   ],
   "source": [
    "median_value_predictor = MedianPredictor()\n",
    "median_value_predictor.fit(x_tr_NF,y_tr_NF)\n",
    "## TODO fit the predictor\n",
    "predict_median_tr = median_value_predictor.predict(x_tr_NF)\n",
    "predict_median_va = median_value_predictor.predict(x_va_NF)\n",
    "predict_median_te = median_value_predictor.predict(x_te_NF)\n",
    "\n",
    "## TODO evaluate predictions on train, valid, and test\n",
    "yhat_tr_med = np.full((y_tr_NF.shape[0],1),predict_median_tr)\n",
    "yhat_va_med = np.full((y_va_NF.shape[0],1),predict_median_va)\n",
    "yhat_te_med = np.full((y_te_NF.shape[0],1),predict_median_te)\n",
    "\n",
    "mse_median_tr = calc_perf_metric__squared_error(y_tr_NF, yhat_tr_med)\n",
    "mse_median_va = calc_perf_metric__squared_error(y_va_NF, yhat_va_med)\n",
    "mse_median_te = calc_perf_metric__squared_error(y_te_NF, yhat_te_med)\n",
    "\n",
    "print(mse_median_tr, mse_median_va, mse_median_te)"
   ]
  },
  {
   "cell_type": "markdown",
   "metadata": {},
   "source": [
    "# 1c : Results Table for Abalone MSE\n",
    "\n",
    "#### **1c:** Make a table of the **mean-squared-error** for each of the MeanPredictor and MedianPredictor predictors when evaluated on all 3 dataset splits (training, validation, and test).\n",
    "\n",
    "\n",
    "**Mean Squared Error:**\n",
    "\n",
    "| split |  guess-mean | guess-median |\n",
    "| ----- | ----------- | ------------ |\n",
    "| train |    10.274   |     11.089       \n",
    "| valid |    10.949   |     11.994\n",
    "| test  |    10.565   |     11.602\n"
   ]
  },
  {
   "cell_type": "markdown",
   "metadata": {},
   "source": [
    "# Model fitting code for 1d"
   ]
  },
  {
   "cell_type": "code",
   "execution_count": 158,
   "metadata": {},
   "outputs": [
    {
     "name": "stdout",
     "output_type": "stream",
     "text": [
      "6.481749066861285 6.51749878831106 6.741106489635403\n"
     ]
    }
   ],
   "source": [
    "linear_regressor_2feats = LeastSquaresLinearRegressor()\n",
    "linear_regressor_2feats.fit(feature2_tr, y_tr_NF)\n",
    "#Training Data\n",
    "yhat_2f_tr = linear_regressor_2feats.predict(feature2_tr)\n",
    "mse_2feat_tr = calc_perf_metric__squared_error(y_tr_NF, yhat_2f_tr)\n",
    "#Validation Data\n",
    "yhat_2f_va = linear_regressor_2feats.predict(feature2_va)\n",
    "mse_2feat_va = calc_perf_metric__squared_error(y_va_NF, yhat_2f_va)\n",
    "#Test Data\n",
    "yhat_2f_te = linear_regressor_2feats.predict(feature2_te)\n",
    "mse_2feat_te = calc_perf_metric__squared_error(y_te_NF, yhat_2f_te)\n",
    "\n",
    "print(mse_2feat_tr, mse_2feat_va, mse_2feat_te)\n",
    "# TODO fit and evaluate"
   ]
  },
  {
   "cell_type": "code",
   "execution_count": 159,
   "metadata": {},
   "outputs": [
    {
     "name": "stdout",
     "output_type": "stream",
     "text": [
      "4.912543420787934 5.10982385799375 4.390538998945608\n"
     ]
    }
   ],
   "source": [
    "linear_regressor_8feats = LeastSquaresLinearRegressor()\n",
    "linear_regressor_8feats.fit(x_tr_NF, y_tr_NF)\n",
    "#Training Data\n",
    "yhat_8f_tr = linear_regressor_8feats.predict(x_tr_NF)\n",
    "mse_8feat_tr = calc_perf_metric__squared_error(y_tr_NF, yhat_8f_tr)\n",
    "#Validation Data\n",
    "yhat_8f_va = linear_regressor_8feats.predict(x_va_NF)\n",
    "mse_8feat_va = calc_perf_metric__squared_error(y_va_NF, yhat_8f_va)\n",
    "#Test Data\n",
    "yhat_8f_te = linear_regressor_8feats.predict(x_te_NF)\n",
    "mse_8feat_te = calc_perf_metric__squared_error(y_te_NF, yhat_8f_te)\n",
    "\n",
    "print(mse_8feat_tr, mse_8feat_va, mse_8feat_te)\n",
    "# TODO fit and evaluate"
   ]
  },
  {
   "cell_type": "markdown",
   "metadata": {},
   "source": [
    "# 1d : Results Table for Mean Squared Error on Abalone\n",
    "\n",
    "### **1d(i)** and **1d(ii)** Add results to the table\n",
    "\n",
    "**Mean Squared Error:**\n",
    "\n",
    "| split |  guess mean | guess median | linear regr (2 feats) | linear regr (8 feats)\n",
    "| ----- | ----------- | ------------ | --------------------- | ---------------------\n",
    "| train |   10.274    |   11.089     |        6.482          |        4.913\n",
    "| valid |   10.949    |   11.994     |        6.517          |        5.110\n",
    "| test  |   10.565    |   11.602     |        6.741          |        4.391"
   ]
  },
  {
   "cell_type": "markdown",
   "metadata": {},
   "source": [
    "### **1d(iii):** Does using more features seem worthwhile? Do you think the improvement on the test data is significant? Why or why not?\n"
   ]
  },
  {
   "cell_type": "markdown",
   "metadata": {},
   "source": [
    "Theoretically, using more features does provide a noticeable improvement over using only 2 features. However, it should be noted that increasing the degree of features used from 2 to 8 does not bring about as much a change as going from a constant-prediction method to using a 2-feature linear regression (6.717 to 5.110 vs 10.949 to 6.517 for the validation set). \n",
    "\n",
    "However, in practice, depending on the case, using 2 features might be enough. Possible scenarios is where data is scarce and we are not able to obtain a large data set if we need to measure all 8 features."
   ]
  },
  {
   "cell_type": "markdown",
   "metadata": {},
   "source": [
    "# 1e : Model selection for K-Nearest Neighbor Regressor"
   ]
  },
  {
   "cell_type": "code",
   "execution_count": 197,
   "metadata": {},
   "outputs": [],
   "source": [
    "param_name = 'n_neighbors'\n",
    "N = x_tr_NF.shape[0]\n",
    "param_list = [1, 3, 5, 7, 11, 21, 41, 61, 81, 101, 201, 401, 801,N] # TODO ADD N\n",
    "# Keep only values below total training size\n",
    "param_list = [p for p in param_list if p <= param_list[-1]]"
   ]
  },
  {
   "cell_type": "code",
   "execution_count": 203,
   "metadata": {},
   "outputs": [
    {
     "name": "stdout",
     "output_type": "stream",
     "text": [
      "4.384303049515402\n",
      "4.80473922902494\n",
      "4.542798185941045\n"
     ]
    }
   ],
   "source": [
    "train_mse_list = []\n",
    "valid_mse_list = []\n",
    "test_mse_list = []\n",
    "for n_neighbors in param_list:\n",
    "    knn_regr = sklearn.neighbors.KNeighborsRegressor(\n",
    "        n_neighbors=n_neighbors,\n",
    "        metric='euclidean',\n",
    "        algorithm='brute')\n",
    "    knn_regr.fit(x_tr_NF, y_tr_NF)\n",
    "    predict_knn_tr = knn_regr.predict(x_tr_NF)\n",
    "    predict_knn_va = knn_regr.predict(x_va_NF)\n",
    "    predict_knn_te = knn_regr.predict(x_te_NF)\n",
    "    mse_knn_tr = calc_perf_metric__squared_error(y_tr_NF, predict_knn_tr)\n",
    "    mse_knn_va = calc_perf_metric__squared_error(y_va_NF, predict_knn_va)\n",
    "    mse_knn_te = calc_perf_metric__squared_error(y_te_NF, predict_knn_te)\n",
    "    train_mse_list.append(mse_knn_tr)\n",
    "    valid_mse_list.append(mse_knn_va)\n",
    "    test_mse_list.append(mse_knn_te)\n",
    "    \n",
    "print(train_mse_list[5])\n",
    "print(valid_mse_list[5])\n",
    "print(test_mse_list[5])\n",
    "    # TODO fit and predict and track performance metric values in the lists"
   ]
  },
  {
   "cell_type": "markdown",
   "metadata": {},
   "source": [
    "#### **1e(i):** Make a line plot for mean-squared-error (MSE) vs $K$ on the validation set"
   ]
  },
  {
   "cell_type": "code",
   "execution_count": 205,
   "metadata": {},
   "outputs": [
    {
     "data": {
      "text/plain": [
       "<matplotlib.lines.Line2D at 0x1a27078e48>"
      ]
     },
     "execution_count": 205,
     "metadata": {},
     "output_type": "execute_result"
    },
    {
     "data": {
      "image/png": "[encoded data removed]",
      "text/plain": [
       "<Figure size 432x288 with 1 Axes>"
      ]
     },
     "metadata": {
      "needs_background": "light"
     },
     "output_type": "display_data"
    }
   ],
   "source": [
    "# TODO\n",
    "fig_h, mse_K = plt.subplots(nrows=1, ncols=1, sharex=True)\n",
    "mse_K.plot(param_list,valid_mse_list, 'rs-')\n",
    "mse_K.plot(param_list,train_mse_list, 'r:')\n",
    "mse_K.axhline(10.949, c = \"black\")\n",
    "mse_K.axhline(5.110, c = \"blue\")\n",
    "#mse_K.set_xlim(0,40)"
   ]
  },
  {
   "cell_type": "markdown",
   "metadata": {},
   "source": [
    "#### **1e(ii):** Which value do you recommend?"
   ]
  },
  {
   "cell_type": "code",
   "execution_count": 166,
   "metadata": {},
   "outputs": [],
   "source": [
    "#   I would recommend 7 neighbors.It seems that the improvement from K \n",
    "# value of 7 to K value of 10 or more is not substantial. We also run \n",
    "# the risk of having less data to work with."
   ]
  },
  {
   "cell_type": "markdown",
   "metadata": {},
   "source": [
    "#### **1e(iii):** Cumulative results table with K-Nearest Neighbor"
   ]
  },
  {
   "cell_type": "markdown",
   "metadata": {},
   "source": [
    "**Mean Squared Error:**\n",
    "\n",
    "| split |  guess mean | guess median | linear regr (2 feats) | linear regr (8 feats) | k-NN (8 feats)  |\n",
    "| ----- | ----------- | ------------ | --------------------- | --------------------- | ----- |\n",
    "| train |    10.274   |   11.089     |        6.482          |        4.913   |   4.384\n",
    "| valid |    10.949   |   11.994     |        6.517          |        5.110   |   4.805\n",
    "| test  |    10.565   |   11.602     |        6.741          |        4.391   |   4.543"
   ]
  },
  {
   "cell_type": "markdown",
   "metadata": {},
   "source": [
    "# <a name=\"problem-1-g\"> 1g: Analyzing Residuals </a>\n",
    "\n",
    "Bonus points possible. Not a required question. Feel free to skip"
   ]
  },
  {
   "cell_type": "code",
   "execution_count": 167,
   "metadata": {},
   "outputs": [],
   "source": [
    "# TODO compute the predicted y values for linear regr and kNN"
   ]
  },
  {
   "cell_type": "markdown",
   "metadata": {},
   "source": [
    "#### **1f(i):** Plot scatters of y vs yhat for linear regression and the best k-NN regressor\n"
   ]
  },
  {
   "cell_type": "code",
   "execution_count": 168,
   "metadata": {},
   "outputs": [
    {
     "data": {
      "image/png": "[encoded data removed]",
      "text/plain": [
       "<Figure size 432x288 with 2 Axes>"
      ]
     },
     "metadata": {
      "needs_background": "light"
     },
     "output_type": "display_data"
    }
   ],
   "source": [
    "fig_h, ax_grid = plt.subplots(nrows=1, ncols=2, sharex=True, sharey=True)\n",
    "plt.xlim([0, 26]); plt.ylim([0, 26]);\n",
    "\n",
    "# ax_grid[0].plot(y_va_N, linear_yhat_va_N, 'k.', alpha=0.2);\n",
    "ax_grid[0].set_title('Linear Regr.'); plt.xlabel('true y'); plt.ylabel('predicted y');\n",
    "\n",
    "# ax_grid[1].plot(y_va_N, knn_yhat_va_N, 'k.', alpha=0.2);\n",
    "plt.title('k-NN Regr.'); plt.xlabel('true y'); plt.ylabel('predicted y');"
   ]
  },
  {
   "cell_type": "markdown",
   "metadata": {},
   "source": [
    "#### **1f(ii):** What kinds of systematic errors does each method make? What should be done about these?\n"
   ]
  },
  {
   "cell_type": "markdown",
   "metadata": {},
   "source": [
    "TODO ANSWER HERE"
   ]
  },
  {
   "cell_type": "code",
   "execution_count": null,
   "metadata": {},
   "outputs": [],
   "source": []
  },
  {
   "cell_type": "markdown",
   "metadata": {},
   "source": [
    "# Problem 2 : Analysis of Doctor Visits"
   ]
  },
  {
   "cell_type": "code",
   "execution_count": 207,
   "metadata": {},
   "outputs": [],
   "source": [
    "# TODO load data here\n",
    "y_tr_DV = np.loadtxt('data_doctorvisits/y_train.csv', delimiter=',', skiprows=1)\n",
    "y_va_DV = np.loadtxt('data_doctorvisits/y_valid.csv', delimiter=',', skiprows=1)\n",
    "y_te_DV = np.loadtxt('data_doctorvisits/y_test.csv', delimiter=',', skiprows=1)\n",
    "x_tr_DV = np.loadtxt('data_doctorvisits/x_train.csv', delimiter=',', skiprows=1)\n",
    "x_va_DV = np.loadtxt('data_doctorvisits/x_valid.csv', delimiter=',', skiprows=1)\n",
    "x_te_DV = np.loadtxt('data_doctorvisits/x_test.csv', delimiter=',', skiprows=1)\n",
    "feature2_tr_DV = x_tr_DV[:,[0,3]].copy()\n",
    "feature2_va_DV = x_va_DV[:,[0,3]].copy()\n",
    "feature2_te_DV = x_te_DV[:,[0,3]].copy()"
   ]
  },
  {
   "cell_type": "markdown",
   "metadata": {},
   "source": [
    "# 2a : Baseline predictions"
   ]
  },
  {
   "cell_type": "markdown",
   "metadata": {},
   "source": [
    "#### **2a(i):** Given stakeholder's preferences, which error metric is most appropriate and why?"
   ]
  },
  {
   "cell_type": "markdown",
   "metadata": {},
   "source": [
    "Because errors should scale linearly, we should use the *mean absolute error* metric.\n",
    "\n",
    "If we used mean squared error, an error of 2 would cost 4x an error of 1."
   ]
  },
  {
   "cell_type": "code",
   "execution_count": 208,
   "metadata": {},
   "outputs": [
    {
     "name": "stdout",
     "output_type": "stream",
     "text": [
      "[4.49431369] [4.70287493] [4.42290781]\n"
     ]
    }
   ],
   "source": [
    "mean_value_predictor = MeanPredictor()\n",
    "mean_value_predictor.fit(x_tr_DV,y_tr_DV)\n",
    "#TODO fit and predict...\n",
    "predict_mean_DV_tr = mean_value_predictor.predict(x_tr_DV)\n",
    "predict_mean_DV_va = mean_value_predictor.predict(x_va_DV)\n",
    "predict_mean_DV_te = mean_value_predictor.predict(x_te_DV)\n",
    "## TODO evaluate predictions on train, valid, and test\n",
    "yhat_DV_tr = np.full((y_tr_DV.shape[0],1),predict_mean_DV_tr)\n",
    "yhat_DV_va = np.full((y_va_DV.shape[0],1),predict_mean_DV_va)\n",
    "yhat_DV_te = np.full((y_te_DV.shape[0],1),predict_mean_DV_te)\n",
    "\n",
    "mae_mean_tr = calc_perf_metric__absolute_error(y_tr_DV, yhat_DV_tr)\n",
    "mae_mean_va = calc_perf_metric__absolute_error(y_va_DV, yhat_DV_va)\n",
    "mae_mean_te = calc_perf_metric__absolute_error(y_te_DV, yhat_DV_te)\n",
    "\n",
    "print(mae_mean_tr, mae_mean_va, mae_mean_te)"
   ]
  },
  {
   "cell_type": "code",
   "execution_count": 209,
   "metadata": {},
   "outputs": [
    {
     "name": "stdout",
     "output_type": "stream",
     "text": [
      "[4.22930123] [4.478] [4.152]\n"
     ]
    }
   ],
   "source": [
    "median_value_predictor = MedianPredictor()\n",
    "median_value_predictor.fit(x_tr_DV,y_tr_DV)\n",
    "#TODO fit and predict...\n",
    "predict_median_DV_tr = median_value_predictor.predict(x_tr_DV)\n",
    "predict_median_DV_va = median_value_predictor.predict(x_va_DV)\n",
    "predict_median_DV_te = median_value_predictor.predict(x_te_DV)\n",
    "## TODO evaluate predictions on train, valid, and test\n",
    "yhat_DV_tr_med = np.full((y_tr_DV.shape[0],1),predict_median_DV_tr)\n",
    "yhat_DV_va_med = np.full((y_va_DV.shape[0],1),predict_median_DV_va)\n",
    "yhat_DV_te_med = np.full((y_te_DV.shape[0],1),predict_median_DV_te)\n",
    "\n",
    "mae_median_tr = calc_perf_metric__absolute_error(y_tr_DV, yhat_DV_tr_med)\n",
    "mae_median_va = calc_perf_metric__absolute_error(y_va_DV, yhat_DV_va_med)\n",
    "mae_median_te = calc_perf_metric__absolute_error(y_te_DV, yhat_DV_te_med)\n",
    "\n",
    "print(mae_median_tr, mae_median_va, mae_median_te)\n",
    "\n",
    "## TODO fit and predict..."
   ]
  },
  {
   "cell_type": "markdown",
   "metadata": {},
   "source": [
    "#### 2a(ii) : Results Table for Doctor Visits with Mean Absolute Error\n",
    "\n",
    "**Mean Absolute Error:**\n",
    "\n",
    "| split |  guess-mean | guess-median |\n",
    "| ----- | ----------- | ------------ |\n",
    "| train |    4.494    |    4.229   \n",
    "| valid |    4.703    |    4.478\n",
    "| test  |    4.423    |    4.152"
   ]
  },
  {
   "cell_type": "markdown",
   "metadata": {},
   "source": [
    "# Setup code for 2b"
   ]
  },
  {
   "cell_type": "code",
   "execution_count": 210,
   "metadata": {},
   "outputs": [
    {
     "name": "stdout",
     "output_type": "stream",
     "text": [
      "4.215931187771396 4.413213091110743 4.16474311522888\n"
     ]
    }
   ],
   "source": [
    "linear_regressor_2feats = LeastSquaresLinearRegressor()\n",
    "# TODO fit and predict\n",
    "#TO FIX\n",
    "linear_regressor_2feats.fit(feature2_tr_DV, y_tr_DV)\n",
    "#Training Data\n",
    "yhatDV_2f_tr = linear_regressor_2feats.predict(feature2_tr_DV)###\n",
    "mae_2feat_tr = calc_perf_metric__absolute_error(y_tr_DV, yhatDV_2f_tr)\n",
    "\n",
    "#Validation Data\n",
    "yhatDV_2f_va = linear_regressor_2feats.predict(feature2_va_DV)###\n",
    "mae_2feat_va = calc_perf_metric__absolute_error(y_va_DV, yhatDV_2f_va)\n",
    "#Test Data\n",
    "yhatDV_2f_te = linear_regressor_2feats.predict(feature2_te_DV)###\n",
    "mae_2feat_te = calc_perf_metric__absolute_error(y_te_DV, yhatDV_2f_te)\n",
    "\n",
    "print(mae_2feat_tr, mae_2feat_va, mae_2feat_te)"
   ]
  },
  {
   "cell_type": "code",
   "execution_count": 211,
   "metadata": {},
   "outputs": [
    {
     "name": "stdout",
     "output_type": "stream",
     "text": [
      "4.127693735349912 4.304945422108992 4.1006455022296215\n"
     ]
    }
   ],
   "source": [
    "linear_regressor_10feats = LeastSquaresLinearRegressor()\n",
    "# TODO fit and predict\n",
    "#TO FIX\n",
    "linear_regressor_10feats.fit(x_tr_DV, y_tr_DV)\n",
    "#Training Data\n",
    "yhatDV_10f_tr = linear_regressor_10feats.predict(x_tr_DV)###\n",
    "mae_10feat_tr = calc_perf_metric__absolute_error(y_tr_DV, yhatDV_10f_tr)\n",
    "\n",
    "#Validation Data\n",
    "yhatDV_10f_va = linear_regressor_10feats.predict(x_va_DV)###\n",
    "mae_10feat_va = calc_perf_metric__absolute_error(y_va_DV, yhatDV_10f_va)\n",
    "#Test Data\n",
    "yhatDV_10f_te = linear_regressor_10feats.predict(x_te_DV)###\n",
    "mae_10feat_te = calc_perf_metric__absolute_error(y_te_DV, yhatDV_10f_te)\n",
    "\n",
    "print(mae_10feat_tr, mae_10feat_va, mae_10feat_te)"
   ]
  },
  {
   "cell_type": "markdown",
   "metadata": {},
   "source": [
    "** 2b(i) and 2b(ii):** Add LR to Results Table for MAE on DoctorVisits"
   ]
  },
  {
   "cell_type": "markdown",
   "metadata": {},
   "source": [
    "**Mean Absolute Error:**\n",
    "\n",
    "| split |  guess-mean | guess-median | linear regr (2 feats) | linear regr (10 feats) |\n",
    "| ----- | ----------- | ------------ | --------------------- | ---------------------- |\n",
    "| train |    4.494    |    4.229   |     4.216      |    4.128\n",
    "| valid |    4.703    |    4.478   |     4.413      |    4.305\n",
    "| test  |    4.423    |    4.152   |     4.165      |    4.101"
   ]
  },
  {
   "cell_type": "markdown",
   "metadata": {},
   "source": [
    "** 2b(iii):** Does using more features seem worthwhile? Why or why not?"
   ]
  },
  {
   "cell_type": "code",
   "execution_count": 212,
   "metadata": {},
   "outputs": [],
   "source": [
    "# Using more features might be worthwhile in this case. Using\n",
    "# a 2-feature linear regression does not provide much improvement in terms\n",
    "# of error when compared to the guess-median method (even more for the \n",
    "# test set). With the 10-feature regression however, we see noticeable \n",
    "# improvement. Hence, it might be worthwhile in this case to utilize\n",
    "# the extra features."
   ]
  },
  {
   "cell_type": "markdown",
   "metadata": {},
   "source": [
    "# 2c : DecisionTreeRegressor "
   ]
  },
  {
   "cell_type": "code",
   "execution_count": 213,
   "metadata": {},
   "outputs": [],
   "source": [
    "param_name = 'min_samples_leaf'\n",
    "N = x_tr_DV.shape[0]\n",
    "param_list = [1, 2, 3, 4, 5, 10, 20, 50, 100, 200, 500, 1000, N] # TODO add size of training set"
   ]
  },
  {
   "cell_type": "code",
   "execution_count": 214,
   "metadata": {},
   "outputs": [
    {
     "name": "stdout",
     "output_type": "stream",
     "text": [
      "4.080285135255221\n",
      "4.400558000955456\n",
      "4.268461965135204\n"
     ]
    }
   ],
   "source": [
    "train_mae_list = []\n",
    "valid_mae_list = []\n",
    "test_mae_list = []\n",
    "for param in param_list:\n",
    "    tree_regr = sklearn.tree.DecisionTreeRegressor(\n",
    "        min_samples_leaf=param,\n",
    "        random_state=42)\n",
    "    tree_regr.fit(x_tr_DV, y_tr_DV)\n",
    "    predict_dt_tr = tree_regr.predict(x_tr_DV)\n",
    "    predict_dt_va = tree_regr.predict(x_va_DV)\n",
    "    predict_dt_te = tree_regr.predict(x_te_DV)\n",
    "    mae_dt_tr = calc_perf_metric__absolute_error(y_tr_DV, predict_dt_tr)\n",
    "    mae_dt_va = calc_perf_metric__absolute_error(y_va_DV, predict_dt_va)\n",
    "    mae_dt_te = calc_perf_metric__absolute_error(y_te_DV, predict_dt_te)\n",
    "    train_mae_list.append(mae_dt_tr)\n",
    "    valid_mae_list.append(mae_dt_va)\n",
    "    test_mae_list.append(mae_dt_te)\n",
    "    \n",
    "print(train_mae_list[7])\n",
    "print(valid_mae_list[7])\n",
    "print(test_mae_list[7])\n",
    "    \n",
    "    # Fit, predict, and track performance metrics..."
   ]
  },
  {
   "cell_type": "markdown",
   "metadata": {},
   "source": [
    "#### 2c(i): Line plot of mean absolute error vs min_samples_leaf"
   ]
  },
  {
   "cell_type": "code",
   "execution_count": 215,
   "metadata": {
    "scrolled": true
   },
   "outputs": [
    {
     "data": {
      "text/plain": [
       "<matplotlib.lines.Line2D at 0x1a26439ef0>"
      ]
     },
     "execution_count": 215,
     "metadata": {},
     "output_type": "execute_result"
    },
    {
     "data": {
      "image/png": "[encoded data removed]",
      "text/plain": [
       "<Figure size 432x288 with 1 Axes>"
      ]
     },
     "metadata": {
      "needs_background": "light"
     },
     "output_type": "display_data"
    }
   ],
   "source": [
    "# TODO plot results\n",
    "fig_h, mae_DT = plt.subplots(nrows=1, ncols=1, sharex=True)\n",
    "mae_DT.plot(param_list,valid_mae_list,'rs-')\n",
    "mae_DT.plot(param_list,train_mae_list,'r:')\n",
    "mae_DT.axhline(4.305, c = \"blue\")\n",
    "mae_DT.axhline(4.478, c = \"black\")\n",
    "#mae_DT.set_xlim(0,200)"
   ]
  },
  {
   "cell_type": "markdown",
   "metadata": {},
   "source": [
    "#### **2c(ii):** Which value of min_samples_leaf would you recommend?\n"
   ]
  },
  {
   "cell_type": "markdown",
   "metadata": {},
   "source": [
    "I would recommend using min_samples_leaf = 100. This allows us to reach the performance of a 10-feature regression using the decision-tree method "
   ]
  },
  {
   "cell_type": "markdown",
   "metadata": {},
   "source": [
    "#### 2c(iii): Add a column to the results table for MAE on DoctorVisits"
   ]
  },
  {
   "cell_type": "markdown",
   "metadata": {},
   "source": [
    "**Mean Absolute Error:**\n",
    "\n",
    "\n",
    "| split |  guess-mean | guess-median | linear regr (2 feats) | linear regr (10 feats) | decision tree\n",
    "| ----- | ----------- | ------------ | --------------------- | ---------------------- | --- |\n",
    "| train |    4.494    |    4.229   |     4.216      |    4.128  | 4.087\n",
    "| valid |    4.703    |    4.478   |     4.413      |    4.305  | 4.397\n",
    "| test  |    4.423    |    4.152   |     4.165      |    4.101  | 4.322"
   ]
  },
  {
   "cell_type": "markdown",
   "metadata": {},
   "source": [
    "# 2d : DecisionTreeRegressor with MAE Training Criterion"
   ]
  },
  {
   "cell_type": "code",
   "execution_count": 216,
   "metadata": {},
   "outputs": [
    {
     "name": "stdout",
     "output_type": "stream",
     "text": [
      "3.884321785085144\n",
      "4.198\n",
      "4.008\n"
     ]
    }
   ],
   "source": [
    "train_mae_list = []\n",
    "valid_mae_list = []\n",
    "test_mae_list = []\n",
    "for param in param_list:\n",
    "    tree_regr = sklearn.tree.DecisionTreeRegressor(\n",
    "        criterion='mae', # USE MEAN ABSOLUTE ERROR here\n",
    "        min_samples_leaf=param,\n",
    "        random_state=42)\n",
    "    tree_regr.fit(x_tr_DV, y_tr_DV)\n",
    "    predict_dt_tr = tree_regr.predict(x_tr_DV)\n",
    "    predict_dt_va = tree_regr.predict(x_va_DV)\n",
    "    predict_dt_te = tree_regr.predict(x_te_DV)\n",
    "    mae_dt_tr = calc_perf_metric__absolute_error(y_tr_DV, predict_dt_tr)\n",
    "    mae_dt_va = calc_perf_metric__absolute_error(y_va_DV, predict_dt_va)\n",
    "    mae_dt_te = calc_perf_metric__absolute_error(y_te_DV, predict_dt_te)\n",
    "    train_mae_list.append(mae_dt_tr)\n",
    "    valid_mae_list.append(mae_dt_va)\n",
    "    test_mae_list.append(mae_dt_te)\n",
    "    \n",
    "print(train_mae_list[8])\n",
    "print(valid_mae_list[8])\n",
    "print(test_mae_list[8])\n",
    "    # TODO fit, predict, and track performance metrics"
   ]
  },
  {
   "cell_type": "markdown",
   "metadata": {},
   "source": [
    "#### 2d(i): Line plot of mean absolute error vs min_samples_leaf"
   ]
  },
  {
   "cell_type": "code",
   "execution_count": 217,
   "metadata": {},
   "outputs": [
    {
     "data": {
      "text/plain": [
       "(0, 500)"
      ]
     },
     "execution_count": 217,
     "metadata": {},
     "output_type": "execute_result"
    },
    {
     "data": {
      "image/png": "[encoded data removed]",
      "text/plain": [
       "<Figure size 432x288 with 1 Axes>"
      ]
     },
     "metadata": {
      "needs_background": "light"
     },
     "output_type": "display_data"
    }
   ],
   "source": [
    "# TODO\n",
    "fig_h, mae_DT_MAE = plt.subplots(nrows=1, ncols=1, sharex=True)\n",
    "mae_DT_MAE.plot(param_list,valid_mae_list, marker = 'o', color = 'r')\n",
    "mae_DT_MAE.plot(param_list,train_mae_list,'r:')\n",
    "mae_DT_MAE.axhline(4.305, c = \"blue\")\n",
    "mae_DT_MAE.axhline(4.478, c = \"black\")\n",
    "mae_DT_MAE.set_xlim(0,500)"
   ]
  },
  {
   "cell_type": "markdown",
   "metadata": {},
   "source": [
    "#### 2d(ii): Which value would you recommend?"
   ]
  },
  {
   "cell_type": "code",
   "execution_count": 188,
   "metadata": {},
   "outputs": [],
   "source": [
    "#  I would recommend either 100 or 200 min samples. This allows us to \n",
    "# beat the performance of 10-feature regression as well as obtain the best\n",
    "# performance for the decision tree method."
   ]
  },
  {
   "cell_type": "markdown",
   "metadata": {},
   "source": [
    "#### Setup for 2d(iii)"
   ]
  },
  {
   "cell_type": "markdown",
   "metadata": {},
   "source": [
    "#### 2d(iii): Add a column to the results table for MAE on DoctorVisits\n",
    "\n",
    "\n",
    "**Mean Absolute Error:**\n",
    "\n",
    "\n",
    "| split |  guess-mean | guess-median | linear regr (2 feats) | linear regr (10 feats) | decision tree (MSE) | decision tree (MAE)\n",
    "| ----- | ----------- | ------------ | --------------------- | ---------------------- | --- | --- |\n",
    "| train |    4.494    |    4.229   |     4.216      |    4.128  | 4.087 | 3.884\n",
    "| valid |    4.703    |    4.478   |     4.413      |    4.305  | 4.397 | 4.198\n",
    "| test  |    4.423    |    4.152   |     4.165      |    4.101  | 4.322 | 4.008"
   ]
  },
  {
   "cell_type": "code",
   "execution_count": 135,
   "metadata": {},
   "outputs": [],
   "source": [
    "#2diV) What makes this better than the previous? \n",
    "\n",
    "#   In this case, use of \"MAE\" criterion minimizes L1 Loss function whereas \n",
    "# default \"MSE\" criterion minimizes L2 Loss function. In our validation \n",
    "# sample, it appears that there are a lot of outliers. In such a case, \n",
    "# the MSE is greatly affected as any outlier error difference is squared, \n",
    "# whereas use of MAE is not affected as much by such outliers. "
   ]
  },
  {
   "cell_type": "markdown",
   "metadata": {},
   "source": [
    "# Problem 3: Concept questions"
   ]
  },
  {
   "cell_type": "markdown",
   "metadata": {},
   "source": [
    "# 3a: Limits of $K$-NN\n",
    "\n",
    "**Question**: When $K$ equals the total training set size $N$, the $K$-nearest-neighbor regression algorithm approaches the behavior of which other regression method discussed here?"
   ]
  },
  {
   "cell_type": "markdown",
   "metadata": {},
   "source": [
    "#### 3a Answer:"
   ]
  },
  {
   "cell_type": "markdown",
   "metadata": {},
   "source": [
    "Based off of data, the K-nearest-neighbor regression approaches the behavior of Mean-Guessing regression. This is because when predictions for each feature take into consideration the entire training set, assuming that it uses the same weights for all, it essentially performs a mean-calculation for this feature. "
   ]
  },
  {
   "cell_type": "markdown",
   "metadata": {},
   "source": [
    "# 3b: Modifications of $K$-NN\n",
    "\n",
    "**Question**: Suppose in problem 2, when trying to minimize *mean absolute error* on heldout data, that instead of a DecisionTreeRegressor, we had used a $K$-NN regressor with Euclidean distance (as in Problem 1f).  \n",
    "\n",
    "Would we expect $K$-NN with large $K$ to always beat the strongest constant-prediction baseline (e.g. guess-median or guess-mean)?\n",
    "\n",
    "To get better MAE values using a nearest-neighbor like approach, should we change the distance function used to compute neighbors? Would we need to change some other step of the $K$-NN prediction process?\n"
   ]
  },
  {
   "cell_type": "markdown",
   "metadata": {},
   "source": [
    "#### 3b Answer:"
   ]
  },
  {
   "cell_type": "markdown",
   "metadata": {},
   "source": [
    "No, K-NN would not always beat the strongest constant-prediction baseline. K-NN using Euclidean distance will tend to approach mean. In problem 2, we see that the strongest constant-prediction is the median-guessing method, which has a lower MAE than the mean-guessing method. If we were to use a K that is close to N, then it is possible that the median-guessing method might perform better. \n",
    "\n",
    "To get better MAE values, we can change the distance function use to the Manhanttan distance function. We will need to modify the prediction function of the k_NN process as well.\n"
   ]
  },
  {
   "cell_type": "markdown",
   "metadata": {},
   "source": [
    "# 3c: Linear Regression with Categorical Features\n",
    "\n",
    "**Question:** Your colleague trains a linear regression model on a subset of the DoctorVisits data using only the `has_medicaid` and `has_private_insurance` features. Thus, all features in the vector have a binary categorical type and can be represented via a redundant one-hot encoding. \n",
    "\n",
    "To your dismay, you discover that your colleague failed to include a bias term (aka intercept term) when training the weights. You recall from class that including a bias term can be important.\n",
    "\n",
    "To be concrete, you wish each example $x_i$ was represented as a (bias-included) vector:\n",
    "$$\n",
    "x_i = [\n",
    "    \\texttt{has_medicaid}\n",
    "    \\quad \\texttt{has_private_insurance}\n",
    "    \\quad 1\n",
    "] \\quad \\quad \\quad ~\n",
    "$$\n",
    "\n",
    "However, your colleague used the following representation:\n",
    "$$\n",
    "\\tilde{x}_i = [\n",
    "    \\texttt{has_medicaid}\n",
    "    \\quad \\texttt{not(has_medicaid)}\n",
    "    \\quad \\texttt{has_private_insurance}\n",
    "    \\quad \\texttt{not(has_private_insurance)} \n",
    "]\n",
    "$$\n",
    "\n",
    "Your colleague has delivered to you a length-4 feature vector $\\tilde{w}$ for the 4 features above, but then left for vacation without giving you access to the training data.\n",
    "\n",
    "Can you manipulate the $\\tilde{w}$ vector to estimate an appropriate $w$ and $b$ such that for all possible inputs $x_i$:\n",
    "\n",
    "$$\n",
    "    w^T x_i + b = \\tilde{w}^T \\tilde{x}_i\n",
    "$$"
   ]
  },
  {
   "cell_type": "markdown",
   "metadata": {},
   "source": [
    "#### 3c Answer:"
   ]
  },
  {
   "cell_type": "markdown",
   "metadata": {},
   "source": [
    "\n",
    "We have: \n",
    "$$\n",
    "\\tilde w = [\\tilde w_{1} \\quad \\tilde w_{2} \\quad \\tilde w_{3} \\quad \\tilde w_{4}] and \\tilde{x}_i = [\\tilde x_{1} \\quad \\tilde x_{2} \\quad \\tilde x_{3} \\quad \\tilde x_{4}]\n",
    "$$\n",
    "\n",
    "$$\n",
    "\\tilde{w}^T \\tilde{x}_i = \\tilde w_{1} \\tilde x_{1} + \\tilde w_{2}\\tilde x_{2} + \\tilde w_{3}\\tilde x_{3} + \\tilde w_{4}\\tilde x_{4}\n",
    "$$\n",
    "\n",
    "We know that $\\tilde x_{1} = x_{1}, \\tilde x_{2} = 1 - x_{1}$ and $\\tilde x_{3} = x_{2}, \\tilde x_{4} = 1 - x_{2}$ as each element in a pair complements the other (If there is medicaid, $\\tilde x_{1} = 1$ and $\\tilde x_{2} = 0$ and vice versa..)\n",
    "\n",
    "Using algebraic manipulations we have: \n",
    "\n",
    "$$\n",
    "\\tilde{w}^T \\tilde{x}_i = \\tilde w_{1}x_{1} + \\tilde w_{2}(1- x_{1}) + \\tilde w_{3} x_{2} + \\tilde w_{4}(1 - x_{2})\n",
    "$$\n",
    "\n",
    "$$\n",
    "= (\\tilde w_{1} - \\tilde w_{2})x_{1} + (\\tilde w_{3} - \\tilde w_{4})x_{2} + (\\tilde w_{2} + \\tilde w_{4})\n",
    "$$\n",
    "\n",
    "Hence, we have: \n",
    "$$\n",
    "W = [(\\tilde w_{1} - \\tilde w_{2}) \\quad  (\\tilde w_{3} - \\tilde w_{4})]\n",
    "$$\n",
    "\n",
    "and \n",
    "$$\n",
    "b = (\\tilde w_{2} + \\tilde w_{4})\n",
    "$$"
   ]
  },
  {
   "cell_type": "code",
   "execution_count": null,
   "metadata": {},
   "outputs": [],
   "source": []
  }
 ],
 "metadata": {
  "anaconda-cloud": {},
  "kernelspec": {
   "display_name": "Python 3",
   "language": "python",
   "name": "python3"
  },
  "language_info": {
   "codemirror_mode": {
    "name": "ipython",
    "version": 3
   },
   "file_extension": ".py",
   "mimetype": "text/x-python",
   "name": "python",
   "nbconvert_exporter": "python",
   "pygments_lexer": "ipython3",
   "version": "3.6.5"
  }
 },
 "nbformat": 4,
 "nbformat_minor": 2
}
